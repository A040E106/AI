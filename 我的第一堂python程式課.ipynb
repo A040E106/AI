{
  "nbformat": 4,
  "nbformat_minor": 0,
  "metadata": {
    "colab": {
      "name": "我的第一堂python程式課.ipynb",
      "version": "0.3.2",
      "provenance": [],
      "include_colab_link": true
    },
    "kernelspec": {
      "name": "python3",
      "display_name": "Python 3"
    }
  },
  "cells": [
    {
      "cell_type": "markdown",
      "metadata": {
        "id": "view-in-github",
        "colab_type": "text"
      },
      "source": [
        "<a href=\"https://colab.research.google.com/github/A040E106/AI/blob/master/%E6%88%91%E7%9A%84%E7%AC%AC%E4%B8%80%E5%A0%82python%E7%A8%8B%E5%BC%8F%E8%AA%B2.ipynb\" target=\"_parent\"><img src=\"https://colab.research.google.com/assets/colab-badge.svg\" alt=\"Open In Colab\"/></a>"
      ]
    },
    {
      "metadata": {
        "id": "avyzqn8GlJTf",
        "colab_type": "text"
      },
      "cell_type": "markdown",
      "source": [
        "#我的第一支程式\n",
        "\n",
        "計算圓周長"
      ]
    },
    {
      "metadata": {
        "id": "3d4YLf1xlSUv",
        "colab_type": "code",
        "colab": {
          "base_uri": "https://localhost:8080/",
          "height": 51
        },
        "outputId": "a56d74fa-90a0-48d7-b221-c147fadd6999"
      },
      "cell_type": "code",
      "source": [
        "#!/usr/bin/env python\n",
        "#coding=utf-8\n",
        "\n",
        "\n",
        "radius = eval(input(\"請輸入半徑大小 \"))\n",
        "\n",
        "\n",
        "\n",
        "perimeter = 2.0 * radius * 3.1415962\n",
        "\n",
        "# Output(輸出):Display results\n",
        "print(\"圓周長\", radius, \"is\", perimeter)\n"
      ],
      "execution_count": 8,
      "outputs": [
        {
          "output_type": "stream",
          "text": [
            "請輸入半徑大小 100\n",
            "圓周長 100 is 628.31924\n"
          ],
          "name": "stdout"
        }
      ]
    },
    {
      "metadata": {
        "id": "ww7Od9z-ukCv",
        "colab_type": "text"
      },
      "cell_type": "markdown",
      "source": [
        "#我的第二支程式\n",
        "\n",
        "四方型面積"
      ]
    },
    {
      "metadata": {
        "id": "KW4RzjTfum8_",
        "colab_type": "code",
        "colab": {
          "base_uri": "https://localhost:8080/",
          "height": 68
        },
        "outputId": "9493d6bb-f10e-4874-812f-28835498cfc1"
      },
      "cell_type": "code",
      "source": [
        "#!/usr/bin/env python\n",
        "#coding=utf-8\n",
        "\n",
        "\n",
        "length = eval(input(\"請輸入四方形的長度大小 \"))\n",
        "width = eval(input(\"請輸入四方形的寬度大小 \"))\n",
        "\n",
        "\n",
        "perimeter = 2.0  * (width + length)\n",
        "\n",
        "area = width * length\n",
        "\n",
        "\n",
        "print(\"四方型長度為\",length,\"寬度為\",width,\"的面積是\",area,\"的周長是\", perimeter)\n"
      ],
      "execution_count": 7,
      "outputs": [
        {
          "output_type": "stream",
          "text": [
            "請輸入四方形的長度大小 100\n",
            "請輸入四方形的寬度大小 20\n",
            "四方型長度為 100 寬度為 20 的面積是 2000 的周長是 240.0\n"
          ],
          "name": "stdout"
        }
      ]
    }
  ]
}